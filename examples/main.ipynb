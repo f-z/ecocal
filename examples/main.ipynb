{
 "cells": [
  {
   "cell_type": "markdown",
   "source": [
    "Sample script for testing purposes"
   ],
   "metadata": {
    "collapsed": false
   }
  },
  {
   "cell_type": "code",
   "outputs": [
    {
     "name": "stdout",
     "output_type": "stream",
     "text": [
      "Pretty printing has been turned OFF\n"
     ]
    }
   ],
   "source": [
    "%pprint\n",
    "from ecocal import *"
   ],
   "metadata": {
    "ExecuteTime": {
     "end_time": "2023-12-25T16:12:15.508046Z",
     "start_time": "2023-12-25T16:12:14.706254Z"
    }
   },
   "execution_count": 1
  },
  {
   "cell_type": "code",
   "execution_count": 2,
   "metadata": {
    "ExecuteTime": {
     "end_time": "2023-12-25T16:12:25.773915Z",
     "start_time": "2023-12-25T16:12:23.024338Z"
    }
   },
   "outputs": [
    {
     "name": "stdout",
     "output_type": "stream",
     "text": [
      "Calendar \t| 2023-10-01 --> 2023-10-03\n",
      "Number of events: 74\n"
     ]
    },
    {
     "name": "stderr",
     "output_type": "stream",
     "text": [
      "Details: 100%|██████████████████████████████████████████████████████| 74/74 [00:01<00:00, 39.37it/s]\n"
     ]
    }
   ],
   "source": [
    "ec = Calendar(startHorizon=\"2023-10-01\", endHorizon=\"2023-10-03\", withDetails=True)"
   ]
  },
  {
   "cell_type": "code",
   "execution_count": 3,
   "metadata": {
    "ExecuteTime": {
     "end_time": "2023-12-25T16:12:42.357769Z",
     "start_time": "2023-12-25T16:12:42.101486Z"
    }
   },
   "outputs": [
    {
     "data": {
      "text/plain": "                                      Id                Start  \\\n0   8745e4ac-4767-46ce-83c7-377f7692888b  10/01/2023 01:45:00   \n1   0f9b3d8e-63fd-4636-841a-dd177c872b20  10/01/2023 01:45:00   \n2   0f014de7-c6e6-4b0a-9876-ec4f523ba65e  10/01/2023 14:00:00   \n3   231f45e2-30b4-473d-b5e1-6c871cce3bdc  10/01/2023 16:00:00   \n4   6fc7c010-8e17-4539-8f09-9cbb9b973f41  10/01/2023 21:45:00   \n..                                   ...                  ...   \n69  1c83c1a0-8e6b-4426-81d9-4194ccc8960a  10/03/2023 22:00:00   \n70  a09b6878-2c34-4b69-81d5-547177188709  10/03/2023 22:00:00   \n71  f68f3a2b-793b-42b0-8541-c7cd850e0392  10/03/2023 22:00:00   \n72  e8dee870-d84d-4565-808b-f29f665c673d  10/03/2023 22:00:00   \n73  0d9a87c1-8041-4769-9439-ffb59f965729  10/03/2023 22:00:00   \n\n                           Name  Impact Currency  \\\n0           Caixin Services PMI    HIGH      CNY   \n1      Caixin Manufacturing PMI    HIGH      CNY   \n2                    Labour Day    NONE      AUD   \n3                  National Day    NONE      CNY   \n4   Building Permits s.a. (MoM)  MEDIUM      NZD   \n..                          ...     ...      ...   \n69       Judo Bank Services PMI  MEDIUM      AUD   \n70           AiG Industry Index  MEDIUM      AUD   \n71        AiG Manufacturing PMI     LOW      AUD   \n72      Judo Bank Composite PMI  MEDIUM      AUD   \n73         AiG Construction PMI     LOW      AUD   \n\n                                            urlSource comments  \\\n0   https://www.pmi.spglobal.com/Public/Home/Press...     None   \n1   https://www.pmi.spglobal.com/Public/Home/Press...     None   \n2                                                None     None   \n3                                                None     None   \n4   https://www.stats.govt.nz/information-releases...     None   \n..                                                ...      ...   \n69                                                NaN      NaN   \n70                                                NaN      NaN   \n71                                                NaN      NaN   \n72                                                NaN      NaN   \n73                                                NaN      NaN   \n\n                                          description headline  link  ...  \\\n0   The Caixin Services Purchasing Managers Index ...     None  None  ...   \n1   The Caixin Manufacturing Purchasing Managers I...     None  None  ...   \n2             Banks will be closed due to Labour Day.     None  None  ...   \n3           Banks will be closed due to National Day.     None  None  ...   \n4   The Building Permits s.a. released by the <a h...     None  None  ...   \n..                                                ...      ...   ...  ...   \n69                                                NaN      NaN   NaN  ...   \n70                                                NaN      NaN   NaN  ...   \n71                                                NaN      NaN   NaN  ...   \n72                                                NaN      NaN   NaN  ...   \n73                                                NaN      NaN   NaN  ...   \n\n    unit potency volatility isAllDay isTentative isPreliminary isReport  \\\n0   None    ZERO       HIGH    False       False         False    False   \n1   None    ZERO       HIGH    False       False         False    False   \n2   None    None       NONE     True       False         False    False   \n3   None    None       NONE     True       False         False    False   \n4      %    ZERO     MEDIUM    False       False         False    False   \n..   ...     ...        ...      ...         ...           ...      ...   \n69   NaN     NaN        NaN      NaN         NaN           NaN      NaN   \n70   NaN     NaN        NaN      NaN         NaN           NaN      NaN   \n71   NaN     NaN        NaN      NaN         NaN           NaN      NaN   \n72   NaN     NaN        NaN      NaN         NaN           NaN      NaN   \n73   NaN     NaN        NaN      NaN         NaN           NaN      NaN   \n\n   isSpeech lastUpdated previousIsPreliminary  \n0     False  1699534883                 False  \n1     False  1699534883                 False  \n2     False  1686657144                 False  \n3     False  1686657271                 False  \n4     False  1696197040                 False  \n..      ...         ...                   ...  \n69      NaN         NaN                   NaN  \n70      NaN         NaN                   NaN  \n71      NaN         NaN                   NaN  \n72      NaN         NaN                   NaN  \n73      NaN         NaN                   NaN  \n\n[74 rows x 38 columns]",
      "text/html": "<div>\n<style scoped>\n    .dataframe tbody tr th:only-of-type {\n        vertical-align: middle;\n    }\n\n    .dataframe tbody tr th {\n        vertical-align: top;\n    }\n\n    .dataframe thead th {\n        text-align: right;\n    }\n</style>\n<table border=\"1\" class=\"dataframe\">\n  <thead>\n    <tr style=\"text-align: right;\">\n      <th></th>\n      <th>Id</th>\n      <th>Start</th>\n      <th>Name</th>\n      <th>Impact</th>\n      <th>Currency</th>\n      <th>urlSource</th>\n      <th>comments</th>\n      <th>description</th>\n      <th>headline</th>\n      <th>link</th>\n      <th>...</th>\n      <th>unit</th>\n      <th>potency</th>\n      <th>volatility</th>\n      <th>isAllDay</th>\n      <th>isTentative</th>\n      <th>isPreliminary</th>\n      <th>isReport</th>\n      <th>isSpeech</th>\n      <th>lastUpdated</th>\n      <th>previousIsPreliminary</th>\n    </tr>\n  </thead>\n  <tbody>\n    <tr>\n      <th>0</th>\n      <td>8745e4ac-4767-46ce-83c7-377f7692888b</td>\n      <td>10/01/2023 01:45:00</td>\n      <td>Caixin Services PMI</td>\n      <td>HIGH</td>\n      <td>CNY</td>\n      <td>https://www.pmi.spglobal.com/Public/Home/Press...</td>\n      <td>None</td>\n      <td>The Caixin Services Purchasing Managers Index ...</td>\n      <td>None</td>\n      <td>None</td>\n      <td>...</td>\n      <td>None</td>\n      <td>ZERO</td>\n      <td>HIGH</td>\n      <td>False</td>\n      <td>False</td>\n      <td>False</td>\n      <td>False</td>\n      <td>False</td>\n      <td>1699534883</td>\n      <td>False</td>\n    </tr>\n    <tr>\n      <th>1</th>\n      <td>0f9b3d8e-63fd-4636-841a-dd177c872b20</td>\n      <td>10/01/2023 01:45:00</td>\n      <td>Caixin Manufacturing PMI</td>\n      <td>HIGH</td>\n      <td>CNY</td>\n      <td>https://www.pmi.spglobal.com/Public/Home/Press...</td>\n      <td>None</td>\n      <td>The Caixin Manufacturing Purchasing Managers I...</td>\n      <td>None</td>\n      <td>None</td>\n      <td>...</td>\n      <td>None</td>\n      <td>ZERO</td>\n      <td>HIGH</td>\n      <td>False</td>\n      <td>False</td>\n      <td>False</td>\n      <td>False</td>\n      <td>False</td>\n      <td>1699534883</td>\n      <td>False</td>\n    </tr>\n    <tr>\n      <th>2</th>\n      <td>0f014de7-c6e6-4b0a-9876-ec4f523ba65e</td>\n      <td>10/01/2023 14:00:00</td>\n      <td>Labour Day</td>\n      <td>NONE</td>\n      <td>AUD</td>\n      <td>None</td>\n      <td>None</td>\n      <td>Banks will be closed due to Labour Day.</td>\n      <td>None</td>\n      <td>None</td>\n      <td>...</td>\n      <td>None</td>\n      <td>None</td>\n      <td>NONE</td>\n      <td>True</td>\n      <td>False</td>\n      <td>False</td>\n      <td>False</td>\n      <td>False</td>\n      <td>1686657144</td>\n      <td>False</td>\n    </tr>\n    <tr>\n      <th>3</th>\n      <td>231f45e2-30b4-473d-b5e1-6c871cce3bdc</td>\n      <td>10/01/2023 16:00:00</td>\n      <td>National Day</td>\n      <td>NONE</td>\n      <td>CNY</td>\n      <td>None</td>\n      <td>None</td>\n      <td>Banks will be closed due to National Day.</td>\n      <td>None</td>\n      <td>None</td>\n      <td>...</td>\n      <td>None</td>\n      <td>None</td>\n      <td>NONE</td>\n      <td>True</td>\n      <td>False</td>\n      <td>False</td>\n      <td>False</td>\n      <td>False</td>\n      <td>1686657271</td>\n      <td>False</td>\n    </tr>\n    <tr>\n      <th>4</th>\n      <td>6fc7c010-8e17-4539-8f09-9cbb9b973f41</td>\n      <td>10/01/2023 21:45:00</td>\n      <td>Building Permits s.a. (MoM)</td>\n      <td>MEDIUM</td>\n      <td>NZD</td>\n      <td>https://www.stats.govt.nz/information-releases...</td>\n      <td>None</td>\n      <td>The Building Permits s.a. released by the &lt;a h...</td>\n      <td>None</td>\n      <td>None</td>\n      <td>...</td>\n      <td>%</td>\n      <td>ZERO</td>\n      <td>MEDIUM</td>\n      <td>False</td>\n      <td>False</td>\n      <td>False</td>\n      <td>False</td>\n      <td>False</td>\n      <td>1696197040</td>\n      <td>False</td>\n    </tr>\n    <tr>\n      <th>...</th>\n      <td>...</td>\n      <td>...</td>\n      <td>...</td>\n      <td>...</td>\n      <td>...</td>\n      <td>...</td>\n      <td>...</td>\n      <td>...</td>\n      <td>...</td>\n      <td>...</td>\n      <td>...</td>\n      <td>...</td>\n      <td>...</td>\n      <td>...</td>\n      <td>...</td>\n      <td>...</td>\n      <td>...</td>\n      <td>...</td>\n      <td>...</td>\n      <td>...</td>\n      <td>...</td>\n    </tr>\n    <tr>\n      <th>69</th>\n      <td>1c83c1a0-8e6b-4426-81d9-4194ccc8960a</td>\n      <td>10/03/2023 22:00:00</td>\n      <td>Judo Bank Services PMI</td>\n      <td>MEDIUM</td>\n      <td>AUD</td>\n      <td>NaN</td>\n      <td>NaN</td>\n      <td>NaN</td>\n      <td>NaN</td>\n      <td>NaN</td>\n      <td>...</td>\n      <td>NaN</td>\n      <td>NaN</td>\n      <td>NaN</td>\n      <td>NaN</td>\n      <td>NaN</td>\n      <td>NaN</td>\n      <td>NaN</td>\n      <td>NaN</td>\n      <td>NaN</td>\n      <td>NaN</td>\n    </tr>\n    <tr>\n      <th>70</th>\n      <td>a09b6878-2c34-4b69-81d5-547177188709</td>\n      <td>10/03/2023 22:00:00</td>\n      <td>AiG Industry Index</td>\n      <td>MEDIUM</td>\n      <td>AUD</td>\n      <td>NaN</td>\n      <td>NaN</td>\n      <td>NaN</td>\n      <td>NaN</td>\n      <td>NaN</td>\n      <td>...</td>\n      <td>NaN</td>\n      <td>NaN</td>\n      <td>NaN</td>\n      <td>NaN</td>\n      <td>NaN</td>\n      <td>NaN</td>\n      <td>NaN</td>\n      <td>NaN</td>\n      <td>NaN</td>\n      <td>NaN</td>\n    </tr>\n    <tr>\n      <th>71</th>\n      <td>f68f3a2b-793b-42b0-8541-c7cd850e0392</td>\n      <td>10/03/2023 22:00:00</td>\n      <td>AiG Manufacturing PMI</td>\n      <td>LOW</td>\n      <td>AUD</td>\n      <td>NaN</td>\n      <td>NaN</td>\n      <td>NaN</td>\n      <td>NaN</td>\n      <td>NaN</td>\n      <td>...</td>\n      <td>NaN</td>\n      <td>NaN</td>\n      <td>NaN</td>\n      <td>NaN</td>\n      <td>NaN</td>\n      <td>NaN</td>\n      <td>NaN</td>\n      <td>NaN</td>\n      <td>NaN</td>\n      <td>NaN</td>\n    </tr>\n    <tr>\n      <th>72</th>\n      <td>e8dee870-d84d-4565-808b-f29f665c673d</td>\n      <td>10/03/2023 22:00:00</td>\n      <td>Judo Bank Composite PMI</td>\n      <td>MEDIUM</td>\n      <td>AUD</td>\n      <td>NaN</td>\n      <td>NaN</td>\n      <td>NaN</td>\n      <td>NaN</td>\n      <td>NaN</td>\n      <td>...</td>\n      <td>NaN</td>\n      <td>NaN</td>\n      <td>NaN</td>\n      <td>NaN</td>\n      <td>NaN</td>\n      <td>NaN</td>\n      <td>NaN</td>\n      <td>NaN</td>\n      <td>NaN</td>\n      <td>NaN</td>\n    </tr>\n    <tr>\n      <th>73</th>\n      <td>0d9a87c1-8041-4769-9439-ffb59f965729</td>\n      <td>10/03/2023 22:00:00</td>\n      <td>AiG Construction PMI</td>\n      <td>LOW</td>\n      <td>AUD</td>\n      <td>NaN</td>\n      <td>NaN</td>\n      <td>NaN</td>\n      <td>NaN</td>\n      <td>NaN</td>\n      <td>...</td>\n      <td>NaN</td>\n      <td>NaN</td>\n      <td>NaN</td>\n      <td>NaN</td>\n      <td>NaN</td>\n      <td>NaN</td>\n      <td>NaN</td>\n      <td>NaN</td>\n      <td>NaN</td>\n      <td>NaN</td>\n    </tr>\n  </tbody>\n</table>\n<p>74 rows × 38 columns</p>\n</div>"
     },
     "execution_count": 3,
     "metadata": {},
     "output_type": "execute_result"
    }
   ],
   "source": [
    "ec.detailedCalendar"
   ]
  }
 ],
 "metadata": {
  "kernelspec": {
   "display_name": "Python 3 (ipykernel)",
   "language": "python",
   "name": "python3"
  },
  "language_info": {
   "codemirror_mode": {
    "name": "ipython",
    "version": 3
   },
   "file_extension": ".py",
   "mimetype": "text/x-python",
   "name": "python",
   "nbconvert_exporter": "python",
   "pygments_lexer": "ipython3",
   "version": "3.10.6"
  },
  "toc": {
   "base_numbering": 1,
   "nav_menu": {},
   "number_sections": true,
   "sideBar": true,
   "skip_h1_title": false,
   "title_cell": "Table of Contents",
   "title_sidebar": "Contents",
   "toc_cell": false,
   "toc_position": {},
   "toc_section_display": true,
   "toc_window_display": false
  }
 },
 "nbformat": 4,
 "nbformat_minor": 1
}
